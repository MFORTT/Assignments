{
  "nbformat": 4,
  "nbformat_minor": 0,
  "metadata": {
    "colab": {
      "provenance": [],
      "include_colab_link": true
    },
    "kernelspec": {
      "name": "python3",
      "display_name": "Python 3"
    },
    "language_info": {
      "name": "python"
    }
  },
  "cells": [
    {
      "cell_type": "markdown",
      "metadata": {
        "id": "view-in-github",
        "colab_type": "text"
      },
      "source": [
        "<a href=\"https://colab.research.google.com/github/MFORTT/Assignments/blob/main/Functions.ipynb\" target=\"_parent\"><img src=\"https://colab.research.google.com/assets/colab-badge.svg\" alt=\"Open In Colab\"/></a>"
      ]
    },
    {
      "cell_type": "markdown",
      "source": [
        "# Functions in Python\n",
        "Functions are designed to perform the same task repeatedly. For the user, they operate like a black box, with no visibility into how the function is implemented. Users provide compatible arguments to the function, or in some cases, no arguments at all, and the function executes according to the programmer's implementation.\n",
        "\n",
        "## Objective\n",
        "- Understand how arguments are used in functions\n",
        "- Function variables visibility and global variables\n",
        "- Troubleshoot functions\n",
        "\n",
        "## Prerequisite\n",
        "\n",
        "- Lists & tuples\n",
        "- Decision and loops\n",
        "\n",
        "\n",
        "## What do you need to complete this exercise?\n",
        "\n",
        "You can perform this exercise in any Python IDE, including JupyterLab or Google Colab.\n"
      ],
      "metadata": {
        "id": "2ITy4ycVFXBq"
      }
    },
    {
      "cell_type": "markdown",
      "source": [
        "# Create a unit conversion program using functions\n",
        "1a. The user selects kilometers per liter (kpl), and the response will be provided in miles per gallon (mpg). The units must be interchangeable, so the program will ask the user whether to convert from kpl to mpg or vice versa.\n",
        "\n",
        "The program will prompt the user for input and deliver output with the appropriate units.\n",
        "\n",
        "Additionally, the program will include input validation. For example, it will not accept letter inputs and will provide an error message to the user when invalid input is detected.\n",
        "\n",
        "The function will also allow multiple arguments, enabling the user to convert multiple values at once.\n",
        "\n",
        "Research and find out the conversion factor between the units."
      ],
      "metadata": {
        "id": "uQxH0KO0tsDc"
      }
    },
    {
      "cell_type": "code",
      "source": [
        "user_input = input(\"Enter the fuel consumption values in kpl or mpg: \")\n",
        "user_input2 = input(\"Enter the unit of fuel consumption (kpl or mpg): \")\n",
        "\n",
        "def convert_fuel(value, unit):\n",
        "  if unit == \"kpl\":\n",
        "    return f\"{value} kpl is {float(value) * 2.352} mpg\"\n",
        "  elif unit == \"mpg\":\n",
        "    return f\"{value} mpg is {float(value) / 2.352} kpl\"\n",
        "  else:\n",
        "    return \"Invalid input\"\n",
        "\n",
        "\n",
        "print(convert_fuel(user_input, user_input2))\n"
      ],
      "metadata": {
        "id": "rRTflD1C9mjt",
        "outputId": "9b77c4fa-619a-4644-a65d-ca49fdc715e3",
        "colab": {
          "base_uri": "https://localhost:8080/"
        }
      },
      "execution_count": 1,
      "outputs": [
        {
          "output_type": "stream",
          "name": "stdout",
          "text": [
            "Enter the fuel consumption values in kpl or mpg: 10\n",
            "Enter the unit of fuel consumption (kpl or mpg): kpl\n",
            "10 kpl is 23.52 mpg\n"
          ]
        }
      ]
    },
    {
      "cell_type": "markdown",
      "source": [
        "1b. How would you write a function that could take any number of unnamed arguments and print their values out in reverse order?\n"
      ],
      "metadata": {
        "id": "0jkTuRdlA6sk"
      }
    },
    {
      "cell_type": "markdown",
      "source": [
        "1c. What would be the result of changing a list or dictionary that was passed into a function as a parameter value? Which operations would be likely to create changes that would be visible outside the function? What steps might you take to minimize that risk?\n",
        "\n",
        "Explain the above statements with the help of code."
      ],
      "metadata": {
        "id": "sL7k6J70zdzH"
      }
    },
    {
      "cell_type": "markdown",
      "source": [
        "it would change the original list or dictionary. .append would create changes that would be visianle outside the funcation."
      ],
      "metadata": {
        "id": "9U9DWim0oWPk"
      }
    },
    {
      "cell_type": "code",
      "source": [
        "def maximum(l):\n",
        "  print(id(l))\n",
        "  l.append(100)\n",
        "  return max(l)\n",
        "\n",
        "my_list = [1,2,3,4,5]\n",
        "print(id(my_list))\n",
        "print(maximum(my_list))\n",
        "print(my_list)"
      ],
      "metadata": {
        "id": "8ZIVOfAMQt2Z",
        "outputId": "91f9c452-7a2e-4677-f3e3-3bc83418c849",
        "colab": {
          "base_uri": "https://localhost:8080/"
        }
      },
      "execution_count": 2,
      "outputs": [
        {
          "output_type": "stream",
          "name": "stdout",
          "text": [
            "137199917233216\n",
            "137199917233216\n",
            "100\n",
            "[1, 2, 3, 4, 5, 100]\n"
          ]
        }
      ]
    },
    {
      "cell_type": "markdown",
      "source": [
        "1d. Assuming that ```x = 5```, what will be the value of ```x``` after ```funct_1()``` below executes? After ```funct_2()``` executes?\n"
      ],
      "metadata": {
        "id": "1wWF-wZx2h9s"
      }
    },
    {
      "cell_type": "markdown",
      "source": [
        "X will remain 5 after funct_1\n",
        "X will be 2 since global was added, it changes the original."
      ],
      "metadata": {
        "id": "HGzpcIIwrNio"
      }
    },
    {
      "cell_type": "code",
      "source": [
        "x = 5\n",
        "def funct_1():\n",
        "  x=3\n",
        "\n",
        "def funct_2():\n",
        "  global x\n",
        "  x=2\n",
        "\n",
        "funct_1()\n",
        "print(x)\n",
        "funct_2()\n",
        "print(x)\n"
      ],
      "metadata": {
        "id": "nvd-xB2v3AYh",
        "outputId": "4accc14d-2b16-4a35-ac17-6f1742fe386d",
        "colab": {
          "base_uri": "https://localhost:8080/"
        }
      },
      "execution_count": 8,
      "outputs": [
        {
          "output_type": "stream",
          "name": "stdout",
          "text": [
            "5\n",
            "2\n"
          ]
        }
      ]
    },
    {
      "cell_type": "markdown",
      "source": [
        "# 2. Troubleshooting"
      ],
      "metadata": {
        "id": "tJlIQIYjBPLX"
      }
    },
    {
      "cell_type": "markdown",
      "source": [
        "Correct the following code. There might be more than one correct answers. Explain your reasoning."
      ],
      "metadata": {
        "id": "V8HkUVFy6DlD"
      }
    },
    {
      "cell_type": "markdown",
      "source": [
        "I just added more arguments."
      ],
      "metadata": {
        "id": "P3thaHEEs4EO"
      }
    },
    {
      "cell_type": "code",
      "source": [
        "def my_func(a,b,c,d,e,f):\n",
        "  print(c)\n",
        "\n",
        "my_func(1,2,3,4,5,6)"
      ],
      "metadata": {
        "id": "bJzMzbxIsAU9",
        "outputId": "5af78213-ae8f-4b94-e150-a13a901ae271",
        "colab": {
          "base_uri": "https://localhost:8080/"
        }
      },
      "execution_count": 10,
      "outputs": [
        {
          "output_type": "stream",
          "name": "stdout",
          "text": [
            "3\n"
          ]
        }
      ]
    },
    {
      "cell_type": "markdown",
      "source": [
        "Using the following code, x should print 100 but it prints 10, why?"
      ],
      "metadata": {
        "id": "sYDRYXa9vbX4"
      }
    },
    {
      "cell_type": "markdown",
      "source": [
        "The global should be within the function not outside of it."
      ],
      "metadata": {
        "id": "zmWMlTC_wKkN"
      }
    },
    {
      "cell_type": "code",
      "source": [
        "def my_func_global():\n",
        "   global x\n",
        "   x = 100\n",
        "\n",
        "\n",
        "x =  10\n",
        "my_func_global()\n",
        "print(x)"
      ],
      "metadata": {
        "id": "w93b1OeVNYuf",
        "colab": {
          "base_uri": "https://localhost:8080/"
        },
        "outputId": "44f678eb-075b-4725-dafa-dc7457df86ec"
      },
      "execution_count": 28,
      "outputs": [
        {
          "output_type": "stream",
          "name": "stdout",
          "text": [
            "100\n"
          ]
        }
      ]
    },
    {
      "cell_type": "markdown",
      "source": [
        "## Challenges\n",
        "\n",
        "Please describe the challenges you faced during the exercise."
      ],
      "metadata": {
        "id": "xQzjxKdvvbyo"
      }
    },
    {
      "cell_type": "markdown",
      "source": [
        "Write your challenges here"
      ],
      "metadata": {
        "id": "qfJNpTB5EbY4"
      }
    }
  ]
}
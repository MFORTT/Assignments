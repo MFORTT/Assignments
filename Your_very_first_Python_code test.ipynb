{
  "nbformat": 4,
  "nbformat_minor": 0,
  "metadata": {
    "colab": {
      "provenance": [],
      "toc_visible": true,
      "include_colab_link": true
    },
    "kernelspec": {
      "name": "python3",
      "display_name": "Python 3"
    },
    "language_info": {
      "name": "python"
    }
  },
  "cells": [
    {
      "cell_type": "markdown",
      "metadata": {
        "id": "view-in-github",
        "colab_type": "text"
      },
      "source": [
        "<a href=\"https://colab.research.google.com/github/MFORTT/Assignments/blob/main/Your_very_first_Python_code%20test.ipynb\" target=\"_parent\"><img src=\"https://colab.research.google.com/assets/colab-badge.svg\" alt=\"Open In Colab\"/></a>"
      ]
    },
    {
      "cell_type": "markdown",
      "source": [
        "# Your first python code\n",
        "\n",
        "## Objective\n",
        "Write your very first python code\n",
        "\n",
        "## Prerequisite\n",
        "\n",
        "- Your very first code `lecture`\n",
        "\n",
        "## What do you need to complete this exercise?\n",
        "\n",
        "You can perform this exercise in any Python IDE, including JupyterLab or Google Colab.\n"
      ],
      "metadata": {
        "id": "2ITy4ycVFXBq"
      }
    },
    {
      "cell_type": "markdown",
      "source": [
        "\n",
        "\n",
        "### Your first code\n",
        "\n",
        "a. Print the following statements using multiple ```print()``` statements\n",
        "```\n",
        "All the world's a stage,\n",
        "And all the men and women merely players:\n",
        "They have their exits and their entrances;\n",
        "And one man in his time plays many parts,\n",
        "His acts being seven ages.\n",
        "```\n",
        "\n"
      ],
      "metadata": {
        "id": "uQxH0KO0tsDc"
      }
    },
    {
      "cell_type": "code",
      "source": [
        "print(\"All the world's a stage,\")\n",
        "print(\"And all the men and women merley players:\")\n",
        "print(\"They have their exits and their entrances;\")\n",
        "print(\"And one man in his time plays many parts,\")\n",
        "print(\"His acts being seven ages.\")"
      ],
      "metadata": {
        "id": "tLQh-A7Kt70H",
        "outputId": "7e72b1b7-aa1b-447f-8c1a-06d453a2de60",
        "colab": {
          "base_uri": "https://localhost:8080/"
        }
      },
      "execution_count": 4,
      "outputs": [
        {
          "output_type": "stream",
          "name": "stdout",
          "text": [
            "All the world's a stage,\n",
            "And all the men and women merley players:\n",
            "They have their exits and their entrances;\n",
            "And one man in his time plays many parts,\n",
            "His acts being seven ages.\n"
          ]
        }
      ]
    },
    {
      "cell_type": "markdown",
      "source": [
        "b. Print the above statements using a single ```print()``` statement"
      ],
      "metadata": {
        "id": "WjCVjgFuu2LR"
      }
    },
    {
      "cell_type": "code",
      "source": [
        "print(\"All the world's a stage, And all the men and women merket players: They have their exits and their entrances; And one man is his time plays many parts, His acts being seven ages.\")"
      ],
      "metadata": {
        "id": "Z3US7bf6u5lp",
        "outputId": "b306bfe7-e502-43dc-dfc8-7d95f72cca33",
        "colab": {
          "base_uri": "https://localhost:8080/"
        }
      },
      "execution_count": 3,
      "outputs": [
        {
          "output_type": "stream",
          "name": "stdout",
          "text": [
            "All the world's a stage, And all the men and women merket players: They have their exits and their entrances; And one man is his time plays many parts, His acts being seven ages.\n"
          ]
        }
      ]
    },
    {
      "cell_type": "markdown",
      "source": [
        "c. Without coding, what is the output of the following statement:\n",
        "```print(\"127\",\"0\",\"0\",\"1\",sep=\".\")```"
      ],
      "metadata": {
        "id": "jGAy3_MlvONr"
      }
    },
    {
      "cell_type": "markdown",
      "source": [
        "\n",
        "127.0.0.1"
      ],
      "metadata": {
        "id": "FrdFrBujEDB9"
      }
    },
    {
      "cell_type": "markdown",
      "source": [
        "d. Identify a situation where you have to print data with ```flush=True``` and ```flush=False```."
      ],
      "metadata": {
        "id": "ruYWccCbvTsi"
      }
    },
    {
      "cell_type": "markdown",
      "source": [
        "Flush True is used when we want a real time output - Maybe if we dont want to take a chance losing information like files we can use the flush true to make sure the file is updated right away/ making changes to a shared file?. Flush False is used when the information can be delayed and live updates arent needed. So maybe when we have a large file that needs time to process no one else needs it immediatley. flush false is default."
      ],
      "metadata": {
        "id": "28PdaQxRDc0H"
      }
    },
    {
      "cell_type": "markdown",
      "source": [
        "e. By default, the ```flush``` is disabled but ```print()``` output behaves like ```flush=True```. Which argument triggers the flush?"
      ],
      "metadata": {
        "id": "bXxEnnzFvZg5"
      }
    },
    {
      "cell_type": "code",
      "source": [
        "# Write your code here"
      ],
      "metadata": {
        "id": "TXRXo2bCvaNA"
      },
      "execution_count": null,
      "outputs": []
    },
    {
      "cell_type": "markdown",
      "source": [
        "## Challenges\n",
        "\n",
        "Please describe the challenges you faced during the exercise."
      ],
      "metadata": {
        "id": "xQzjxKdvvbyo"
      }
    },
    {
      "cell_type": "markdown",
      "source": [
        "Write your challenges here"
      ],
      "metadata": {
        "id": "qfJNpTB5EbY4"
      }
    }
  ]
}
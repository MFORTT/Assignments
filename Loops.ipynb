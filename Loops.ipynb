{
  "nbformat": 4,
  "nbformat_minor": 0,
  "metadata": {
    "colab": {
      "provenance": [],
      "include_colab_link": true
    },
    "kernelspec": {
      "name": "python3",
      "display_name": "Python 3"
    },
    "language_info": {
      "name": "python"
    }
  },
  "cells": [
    {
      "cell_type": "markdown",
      "metadata": {
        "id": "view-in-github",
        "colab_type": "text"
      },
      "source": [
        "<a href=\"https://colab.research.google.com/github/MFORTT/Assignments/blob/main/Loops.ipynb\" target=\"_parent\"><img src=\"https://colab.research.google.com/assets/colab-badge.svg\" alt=\"Open In Colab\"/></a>"
      ]
    },
    {
      "cell_type": "markdown",
      "source": [
        "# Loops in Python\n",
        "\n",
        "A sequence of instructions that repeats until a certain condition is met\n",
        "\n",
        "## Objective\n",
        "Understand how loops are applied\n",
        "\n",
        "## Prerequisite\n",
        "\n",
        "- Decision statements\n",
        "- Input functions\n",
        "- Python literals\n",
        "- Programming variables\n",
        "\n",
        "## What do you need to complete this exercise?\n",
        "\n",
        "You can perform this exercise in any Python IDE, including JupyterLab or Google Colab.\n"
      ],
      "metadata": {
        "id": "2ITy4ycVFXBq"
      }
    },
    {
      "cell_type": "markdown",
      "source": [
        "### While loop\n",
        "\n",
        "a. Please write Python code using a while loop to perform the following steps.\n",
        "\n",
        "1. Take any non-negative and non-zero integer number and name it ```n0```\n",
        "2. if the number is even, evaluate a new ```n0``` as ```n0 ÷ 2```;\n",
        "3. Otherwise, if the number is odd, evaluate a new ```n0``` as ```3 * n0 + 1```;\n",
        "4. if ```n0``` is not equal to 1, go to point 2.\n",
        "\n",
        "#### Sample input: ```16```\n",
        "\n",
        "#### Expected output: ###\n",
        "\n",
        "```\n",
        "8\n",
        "4\n",
        "2\n",
        "1\n",
        "steps = 4\n",
        "```"
      ],
      "metadata": {
        "id": "uQxH0KO0tsDc"
      }
    },
    {
      "cell_type": "code",
      "source": [
        "n0 = int(input(\"Enter a non-negative and non-zero integer number: \"))\n",
        "if n0 <= 0:\n",
        "    print(\"Invalid input. Please enter a non-negative and non-zero integer number.\")\n",
        "else:\n",
        "  print(n0, end=\" \")\n",
        "  steps = 1\n",
        "  while n0 != 1:\n",
        "    if n0 % 2 == 0:\n",
        "      n0 = n0 // 2\n",
        "    else:\n",
        "      n0 = 3 * n0 + 1\n",
        "    print(n0, end=\" \")\n",
        "    steps += 1\n",
        "  print(\"\\nsteps =\", steps)\n"
      ],
      "metadata": {
        "id": "5M7ksW8xsC3k",
        "outputId": "d3c5dd38-d724-4633-a19c-ef6de158f347",
        "colab": {
          "base_uri": "https://localhost:8080/"
        }
      },
      "execution_count": 107,
      "outputs": [
        {
          "output_type": "stream",
          "name": "stdout",
          "text": [
            "Enter a non-negative and non-zero integer number: 16\n",
            "16 8 4 2 1 \n",
            "steps = 5\n"
          ]
        }
      ]
    },
    {
      "cell_type": "markdown",
      "source": [
        "b. Write code that uses a while loop and runs indefinitely. Modify the same code to resolve the infinite loop issue."
      ],
      "metadata": {
        "id": "S3X6hdy5sI-s"
      }
    },
    {
      "cell_type": "code",
      "source": [
        "n0 = int(input(\"Enter a non-negative and non-zero integer number: \"))\n",
        "if n0 <= 0:\n",
        "    print(\"Invalid input. Please enter a non-negative and non-zero integer number.\")\n",
        "\n",
        "else:\n",
        "  print(n0, end=\" \")\n",
        "  steps = 1\n",
        "  while n0 == 1:\n",
        "    if n0 % 2 == 0:\n",
        "      n0 = n0 // 2\n",
        "    else:\n",
        "      n0 = 3 * n0 + 1\n",
        "    print(n0, end=\" \")\n",
        "    steps += 1\n",
        "  print(\"\\nsteps =\", steps)"
      ],
      "metadata": {
        "id": "cs0pk1_qsNY0",
        "outputId": "90cbfb6a-2b13-4065-96bf-afa7225cf6a6",
        "colab": {
          "base_uri": "https://localhost:8080/"
        }
      },
      "execution_count": 19,
      "outputs": [
        {
          "output_type": "stream",
          "name": "stdout",
          "text": [
            "Enter a non-negative and non-zero integer number: 100\n",
            "100 \n",
            "steps = 1\n"
          ]
        }
      ]
    },
    {
      "cell_type": "markdown",
      "source": [
        "c. Write a program that takes two integers as input and asks the user to choose an arithmetic operation to perform with those numbers. At the end of the program, prompt the user with the question, \"Do you want to continue?\" If the user selects \"Y\" or \"y,\" the program should restart; otherwise, it should exit and display the message, \"Have a good day.\""
      ],
      "metadata": {
        "id": "oxXvMBKNsX8M"
      }
    },
    {
      "cell_type": "code",
      "source": [
        "n1 = int(input(\"Enter in first integer\"))\n",
        "n2 = int(input(\"Enter in second integer\"))\n",
        "\n",
        "operation = input(\"Enter an arithmetic operation (+, -, *, /)\")\n",
        "if operation == \"+\":\n",
        "  result = n1 + n2\n",
        "elif operation == '-':\n",
        "  result = n1 - n2\n",
        "elif operation == '*':\n",
        "  result = n1 * n2\n",
        "elif operation == '/':\n",
        "  if n2 == 0:\n",
        "    result = \"Error: Division by zero\"\n",
        "  else:\n",
        "   result = n1 / n2\n",
        "else:\n",
        "    result = \"Invalid operation!\"\n",
        "print(\"Result:\", result)\n",
        "\n",
        "print(\"Do you want to continute? (Y/y to continue,any other key exit): \")\n",
        "answer = input()\n",
        "if answer == \"Y\" or answer == \"y\":\n",
        "  print(\"Program Restarting\")\n",
        "else:\n",
        "  print(\"Have a good day\")\n",
        "\n",
        "\n"
      ],
      "metadata": {
        "id": "w9Ai1I_JsYw9",
        "outputId": "c15ba887-afe6-45f2-b6cc-c1270488e5dc",
        "colab": {
          "base_uri": "https://localhost:8080/"
        }
      },
      "execution_count": 64,
      "outputs": [
        {
          "output_type": "stream",
          "name": "stdout",
          "text": [
            "Enter in first integer10\n",
            "Enter in second integer20\n",
            "Enter an arithmetic operation (+, -, *, /)*\n",
            "Result: 200\n",
            "Do you want to continute? (Y/y to continue,any other key exit): \n",
            "y\n",
            "Program Restarting\n"
          ]
        }
      ]
    },
    {
      "cell_type": "markdown",
      "source": [
        "### 2. For loops\n",
        "\n",
        "a. Write a code that counts the total number of characters in a text and also counts each character individually. For example, consider the sentence \"To be, or not to be, that is the question.\" The code should determine the total number of letters and how many times each letter appears, including specific counts for the letters 't' and 'o', etc. Ignore the upper and lower cases letters, and any punctuations symbols. Use only for loop, while loop, break and continue statements where necessary.\n",
        "\n",
        "#### Sample input: ```To be, or not to be, that is the question```\n",
        "\n",
        "#### Expected output: ###\n",
        "\n",
        "```\n",
        "Total number of alphabets: 30\n",
        "Total number of distinct alphabets are:\n",
        "T = 7\n",
        "o = 4\n",
        "```\n",
        "> **Note:** The expected output above is incomplete.\n"
      ],
      "metadata": {
        "id": "IeiOBf1Tse1c"
      }
    },
    {
      "cell_type": "code",
      "source": [
        "Text = input(\"Enter in Quote:\").lower()\n",
        "char_count = {}\n",
        "for char in Text:\n",
        "  if char.isalpha():\n",
        "    char_count[char] = char_count.get(char, 0) + 1\n",
        "for char in Text:\n",
        "  if char == \"t\" :\n",
        "    if char in char_count:\n",
        "      char_count[char]\n",
        "    if char == \"o\" :\n",
        "     if char in char_count:\n",
        "      char_count[char]\n",
        "total_letters = sum(char_count.values())\n",
        "print(\"Total number of alphabets:\",total_letters)\n",
        "print(\"T =\", char_count.get('t'))\n",
        "print(\"o =\", char_count.get('o'))\n"
      ],
      "metadata": {
        "id": "LjNnQHb9nnQq",
        "outputId": "a5f02c92-a54c-4341-e056-b1608be2b68e",
        "colab": {
          "base_uri": "https://localhost:8080/"
        }
      },
      "execution_count": 71,
      "outputs": [
        {
          "output_type": "stream",
          "name": "stdout",
          "text": [
            "Enter in Quote:To be, or not to be, that is the question\n",
            "Total number of alphabets: 30\n",
            "T = 7\n",
            "o = 5\n"
          ]
        }
      ]
    },
    {
      "cell_type": "markdown",
      "source": [],
      "metadata": {
        "id": "HDX5FzeGDCaE"
      }
    },
    {
      "cell_type": "markdown",
      "source": [
        "## Challenges\n",
        "\n",
        "Please describe the challenges you faced during the exercise."
      ],
      "metadata": {
        "id": "xQzjxKdvvbyo"
      }
    },
    {
      "cell_type": "markdown",
      "source": [
        "for this one id say the same as the others. really trying to think about what it is thats being asked and executing it. The first one im not sure why there are more steps? and then B im not sure if I did it correctly, like if i modified it to resolve the looop.The last one inparticular took a really long time to play with. I kept getting the counts wrong and I couldnt figure out why, but I believe its correct now."
      ],
      "metadata": {
        "id": "qfJNpTB5EbY4"
      }
    }
  ]
}
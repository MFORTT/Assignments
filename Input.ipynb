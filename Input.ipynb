{
  "nbformat": 4,
  "nbformat_minor": 0,
  "metadata": {
    "colab": {
      "provenance": [],
      "include_colab_link": true
    },
    "kernelspec": {
      "name": "python3",
      "display_name": "Python 3"
    },
    "language_info": {
      "name": "python"
    }
  },
  "cells": [
    {
      "cell_type": "markdown",
      "metadata": {
        "id": "view-in-github",
        "colab_type": "text"
      },
      "source": [
        "<a href=\"https://colab.research.google.com/github/MFORTT/Assignments/blob/main/Input.ipynb\" target=\"_parent\"><img src=\"https://colab.research.google.com/assets/colab-badge.svg\" alt=\"Open In Colab\"/></a>"
      ]
    },
    {
      "cell_type": "markdown",
      "source": [
        "# User input in Python\n",
        "\n",
        "## Objective\n",
        "1. Understand how ```input()``` function is applied.\n",
        "\n",
        "## Prerequisite\n",
        "\n",
        "- Python literals lecture & lab\n",
        "- Programming variables lecture\n",
        "\n",
        "## What do you need to complete this exercise?\n",
        "\n",
        "You can perform this exercise in any Python IDE, including JupyterLab or Google Colab.\n"
      ],
      "metadata": {
        "id": "2ITy4ycVFXBq"
      }
    },
    {
      "cell_type": "markdown",
      "source": [
        "### User input\n",
        "\n",
        "a. Write a program that prompts the user to enter the weight of a person in kilograms and outputs the equivalent weight in pounds. (Note that 1 kilogram = 2.2 pounds)."
      ],
      "metadata": {
        "id": "uQxH0KO0tsDc"
      }
    },
    {
      "cell_type": "code",
      "source": [
        "KG_to_POUNDS = 2.2\n",
        "KgWeight =float(input(\"Enter weight in kilograms\"))\n",
        "print(KgWeight*KG_to_POUNDS)\n",
        "# Hint: Use int() or float() to convert the user input into an integer or float\n",
        "x = \"10\"\n",
        "print(type(x))\n",
        "x = int(x)\n",
        "print(type(x))"
      ],
      "metadata": {
        "colab": {
          "base_uri": "https://localhost:8080/"
        },
        "id": "N3wgQQ672rWR",
        "outputId": "f81854f9-2a03-4f30-c1a8-d6ddfbac73c7"
      },
      "execution_count": 15,
      "outputs": [
        {
          "output_type": "stream",
          "name": "stdout",
          "text": [
            "Enter weight in kilograms70\n",
            "154.0\n",
            "<class 'str'>\n",
            "<class 'int'>\n"
          ]
        }
      ]
    },
    {
      "cell_type": "markdown",
      "source": [
        "b. Interest on a credit card's unpaid balance is calculated using the average daily balance. Suppose that $netBalance$ is the balance shown in the bill, $payment$ is the payment made, $d1$ is the number of days in the billing cycle, and $d2$ is the number of days payment is made before biling cycle. Then, the average daily balance is: $$averageDailybalance = (netBalance \\times d1 - payment \\times d2)/d1$$.\n",
        "\n",
        "If the interest rate per month is, say, 0.0152, then the interest on the unpaid balance is: $interest = averageDailyBalance \\times 0.0152$\n",
        "\n",
        "Write a program that accepts as input $netBalance$, $payment$, $d1$, $d2$, and $interest rate per month$. The program outputs the interest."
      ],
      "metadata": {
        "id": "2ou6B-5b2ws3"
      }
    },
    {
      "cell_type": "code",
      "source": [
        "netBalance = float(input(\"Enter net balance\"))\n",
        "payment = float(input(\"Enter Payment amount\"))\n",
        "d1 = int(input(\"Enter number of days in billing cycle\"))\n",
        "d2 = int(input(\"Enter number of days payment is made before billing cycle\"))\n",
        "averageDailyBalance = (netBalance*d1-payment*d2)/d1\n",
        "print(averageDailyBalance)\n",
        "interest = averageDailyBalance*0.0152\n",
        "print(interest)"
      ],
      "metadata": {
        "id": "pqP70bD02x9h",
        "outputId": "0b5f59fa-a51c-4cf0-99b4-f1c133e01c34",
        "colab": {
          "base_uri": "https://localhost:8080/"
        }
      },
      "execution_count": 17,
      "outputs": [
        {
          "output_type": "stream",
          "name": "stdout",
          "text": [
            "Enter net balance2000\n",
            "Enter Payment amount100\n",
            "Enter number of days in billing cycle30\n",
            "Enter number of days payment is made before billing cycle20\n",
            "1933.3333333333333\n",
            "29.386666666666667\n"
          ]
        }
      ]
    },
    {
      "cell_type": "markdown",
      "source": [
        "c. Two cars A and B leave an intersection at the same time. Car A travels west at an average speed of x miles per hour and car B travels south at an average speed of y miles per hour. Write a program that prompts the user to enter the average speed of both the cars and the elapsed time (in hours and minutes) and outputs the (shortest) distance between the cars."
      ],
      "metadata": {
        "id": "gAxw_xVk25qO"
      }
    },
    {
      "cell_type": "code",
      "source": [
        "X = float(input(\"Enter spped of car A (miles per hour\"))\n",
        "Y = float(input(\"Enter spped of car B (miles per hour\"))\n",
        "Hours = int(input(\"Enter time elapsed in hours\"))\n",
        "Minutes = int(input(\"Enter time elapsed in minutes\"))\n",
        "timeinhours = hours + (minutes / 60)\n",
        "\n",
        "\n"
      ],
      "metadata": {
        "id": "nMPuZXsH26nW",
        "outputId": "03c73ca4-35f5-420b-8970-9c77f5721a36",
        "colab": {
          "base_uri": "https://localhost:8080/"
        }
      },
      "execution_count": 26,
      "outputs": [
        {
          "name": "stdout",
          "output_type": "stream",
          "text": [
            "Enter spped of car A (miles per hour100\n",
            "Enter spped of car B (miles per hour200\n",
            "Enter time elapsed in hours10\n",
            "Enter time elapsed in minutes20\n"
          ]
        }
      ]
    },
    {
      "cell_type": "markdown",
      "source": [
        "### Troubleshooting\n",
        "\n",
        "Please troubleshoot the following issue **without using Python**, and explain your reasoning.\n",
        "\n",
        "a. ```hello = \"hello\"```  \n",
        "b. ```_var = 100```  \n",
        "c. ```!var_1 = 200```  \n",
        "d. ```print = \"print me\"```  \n",
        "e. ```False = 0```  "
      ],
      "metadata": {
        "id": "V0l5fqK-NJ2n"
      }
    },
    {
      "cell_type": "markdown",
      "source": [
        "a. hello = \"hello\" - correct\n",
        "\n",
        "b. _var = 100 - Correct\n",
        "\n",
        "c. !var_1 = 200 - cannot have an exlamation mark\n",
        "\n",
        "d. print = \"print me\" - correct\n",
        "\n",
        "e. False = 0 - false is already predefined. cannont redefine it"
      ],
      "metadata": {
        "id": "Cz8CqobPNO8n"
      }
    },
    {
      "cell_type": "markdown",
      "source": [
        "## Challenges\n",
        "\n",
        "Please describe the challenges you faced during the exercise."
      ],
      "metadata": {
        "id": "xQzjxKdvvbyo"
      }
    },
    {
      "cell_type": "markdown",
      "source": [
        "This was very hard. I need more understanding of everything and simpler codes and how to really break everything down. Like how someone would think about coverting the word problem into code. Ive got an idea now but more explanation and thought process behind eberything would be very helpful."
      ],
      "metadata": {
        "id": "qfJNpTB5EbY4"
      }
    }
  ]
}
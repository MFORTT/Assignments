{
  "nbformat": 4,
  "nbformat_minor": 0,
  "metadata": {
    "colab": {
      "provenance": [],
      "toc_visible": true,
      "include_colab_link": true
    },
    "kernelspec": {
      "name": "python3",
      "display_name": "Python 3"
    },
    "language_info": {
      "name": "python"
    }
  },
  "cells": [
    {
      "cell_type": "markdown",
      "metadata": {
        "id": "view-in-github",
        "colab_type": "text"
      },
      "source": [
        "<a href=\"https://colab.research.google.com/github/MFORTT/Assignments/blob/main/Variables.ipynb\" target=\"_parent\"><img src=\"https://colab.research.google.com/assets/colab-badge.svg\" alt=\"Open In Colab\"/></a>"
      ]
    },
    {
      "cell_type": "markdown",
      "source": [
        "# Python variables\n",
        "\n",
        "Variables are human-friendly names of memory locations\n",
        "\n",
        "## Objective\n",
        "1. Understand how to define variables in Python.\n",
        "2. Gain a clear understanding of how the Python interpreter allocates memory addresses to variables.\n",
        "3. Skilled in troubleshooting techniques.\n",
        "\n",
        "## Prerequisite\n",
        "\n",
        "- Python literals lecture & lab\n",
        "- Programming variables lecture\n",
        "\n",
        "## What do you need to complete this exercise?\n",
        "\n",
        "You can perform this exercise in any Python IDE, including JupyterLab or Google Colab.\n"
      ],
      "metadata": {
        "id": "2ITy4ycVFXBq"
      }
    },
    {
      "cell_type": "markdown",
      "source": [
        "### Variable definition\n",
        "\n",
        "No need to declare the variable data type; variables can be assigned values or strings as needed."
      ],
      "metadata": {
        "id": "uQxH0KO0tsDc"
      }
    },
    {
      "cell_type": "code",
      "source": [
        "var1 = 10 # integer\n",
        "print(type(var1)) # var1 holds integer data type\n",
        "var2 = 100.0 # float\n",
        "print(type(var2))  # var2 holds float data type\n",
        "print(var1 * var2)  # var1 * var2 - float data type\n",
        "str1 = \"Hello World\"\n",
        "type(str1)\n",
        "print(str1)\n",
        "str2 = 'Single quote can also be used'\n",
        "type(str2)\n",
        "print(str2)\n",
        "var1 = \"Now I am a string data type\"\n",
        "del(var1) # delete the var1"
      ],
      "metadata": {
        "colab": {
          "base_uri": "https://localhost:8080/"
        },
        "id": "6RKggasqIqbr",
        "outputId": "efb6c853-5c73-4903-ce49-597e188bbc0f"
      },
      "execution_count": 61,
      "outputs": [
        {
          "output_type": "stream",
          "name": "stdout",
          "text": [
            "<class 'int'>\n",
            "<class 'float'>\n",
            "1000.0\n",
            "Hello World\n",
            "Single quote can also be used\n"
          ]
        }
      ]
    },
    {
      "cell_type": "markdown",
      "source": [
        "### Variable memory usage\n"
      ],
      "metadata": {
        "id": "58GMVBXqKY89"
      }
    },
    {
      "cell_type": "code",
      "source": [
        "var1 = 10"
      ],
      "metadata": {
        "id": "nG3zhLAuJOdz"
      },
      "execution_count": null,
      "outputs": []
    },
    {
      "cell_type": "code",
      "source": [
        "# Check the memory address of var1 by using the following statement\n",
        "var1 = 10\n",
        "print(hex(id(var1)))"
      ],
      "metadata": {
        "id": "mjwxa33VJVix",
        "outputId": "f7a53286-dd62-4de9-c152-90499e9a99a6",
        "colab": {
          "base_uri": "https://localhost:8080/"
        }
      },
      "execution_count": 37,
      "outputs": [
        {
          "output_type": "stream",
          "name": "stdout",
          "text": [
            "0xa40ca8\n"
          ]
        }
      ]
    },
    {
      "cell_type": "code",
      "source": [
        "var1 = 100\n",
        "print(hex(id(var1)))\n",
        "# Check the memory address of var1 again"
      ],
      "metadata": {
        "id": "rQqjsX6pJafY",
        "outputId": "6f8426d5-a2e0-4e4f-a0ad-a52f9bc4b66b",
        "colab": {
          "base_uri": "https://localhost:8080/"
        }
      },
      "execution_count": 38,
      "outputs": [
        {
          "output_type": "stream",
          "name": "stdout",
          "text": [
            "0xa417e8\n"
          ]
        }
      ]
    },
    {
      "cell_type": "code",
      "source": [
        "print(hex(id(var1)))"
      ],
      "metadata": {
        "id": "bXIAgWixJ97B",
        "outputId": "30676da7-04c2-4c29-b271-e61004443bc4",
        "colab": {
          "base_uri": "https://localhost:8080/"
        }
      },
      "execution_count": 39,
      "outputs": [
        {
          "output_type": "stream",
          "name": "stdout",
          "text": [
            "0xa417e8\n"
          ]
        }
      ]
    },
    {
      "cell_type": "markdown",
      "source": [
        "You should see two distinct addresses for var1. Explain why there are two different addresses and what happened to the first one."
      ],
      "metadata": {
        "id": "JrodhFbkJewA"
      }
    },
    {
      "cell_type": "code",
      "source": [
        "var2 = 100\n",
        "print(hex(id(var2)))\n",
        "\n",
        "print ('is using the same address because it is the same value')\n",
        "print (\"the first one is being replaced with the new assigment\")"
      ],
      "metadata": {
        "id": "sWuIw2guJ1wK",
        "outputId": "4d004e3d-e4bc-4cc5-823e-6c538b8806a9",
        "colab": {
          "base_uri": "https://localhost:8080/"
        }
      },
      "execution_count": 62,
      "outputs": [
        {
          "output_type": "stream",
          "name": "stdout",
          "text": [
            "0xa417e8\n",
            "is using the same address because it is the same value\n",
            "the first one is being replaced with the new assigment\n"
          ]
        }
      ]
    },
    {
      "cell_type": "code",
      "source": [
        "print(hex(id(var2)))"
      ],
      "metadata": {
        "id": "rOt7-7eLKFl_",
        "outputId": "42e2201e-1ab0-4f6d-8c6c-18ca623d5dc9",
        "colab": {
          "base_uri": "https://localhost:8080/"
        }
      },
      "execution_count": 49,
      "outputs": [
        {
          "output_type": "stream",
          "name": "stdout",
          "text": [
            "0xa417e8\n"
          ]
        }
      ]
    },
    {
      "cell_type": "markdown",
      "source": [
        "### Memory map"
      ],
      "metadata": {
        "id": "WpQLLdj7Lr4K"
      }
    },
    {
      "cell_type": "code",
      "source": [
        "str1 = \"Hello\"\n",
        "str2 = \"World\""
      ],
      "metadata": {
        "id": "tecKbG6eKOo1"
      },
      "execution_count": null,
      "outputs": []
    },
    {
      "cell_type": "code",
      "source": [
        "# Find out the memory addresses of each character in str1 and str2.\n",
        "# The following is the example\n",
        "str1 = \"Hello\"\n",
        "print(hex(id(str1[0])), hex(id(str1[1])))\n",
        "print(str1[0], hex(id(str1[0])))\n",
        "print(str1[1], hex(id(str1[1])))\n",
        "print(str1[2], hex(id(str1[2])))\n",
        "print(str1[3], hex(id(str1[3])))\n",
        "print(str1[4], hex(id(str1[4])))\n",
        "\n",
        "str2 = \"World\"\n",
        "print(hex(id(str2[0])), hex(id(str2[1])))\n",
        "print(str2[0], hex(id(str2[0])))\n",
        "print(str2[1], hex(id(str2[1])))\n",
        "print(str2[2], hex(id(str2[2])))\n",
        "print(str2[3], hex(id(str2[3])))\n",
        "print(str2[4], hex(id(str2[4])))\n"
      ],
      "metadata": {
        "id": "KOrIVOosKUWD",
        "outputId": "324820af-b078-45f6-c2ad-24704c7ba9ba",
        "colab": {
          "base_uri": "https://localhost:8080/"
        }
      },
      "execution_count": 59,
      "outputs": [
        {
          "output_type": "stream",
          "name": "stdout",
          "text": [
            "0xa4b9e8 0xa4c040\n",
            "H 0xa4b9e8\n",
            "e 0xa4c040\n",
            "l 0xa4c1c8\n",
            "l 0xa4c1c8\n",
            "o 0xa4c270\n",
            "0xa4bd30 0xa4c270\n",
            "W 0xa4bd30\n",
            "o 0xa4c270\n",
            "r 0xa4c318\n",
            "l 0xa4c1c8\n",
            "d 0xa4c008\n"
          ]
        }
      ]
    },
    {
      "cell_type": "code",
      "source": [
        "print(hex(id(str1[0])), hex(id(str1[1])))  # where 0 is the first index and 1 is the second index\n",
        "# Use the same method as described above to find the addresses of additional characters and complete the table below."
      ],
      "metadata": {
        "id": "egL18fPSKXfz"
      },
      "execution_count": null,
      "outputs": []
    },
    {
      "cell_type": "markdown",
      "source": [
        "\n",
        " H 0xa4b9e8\n",
        "\n",
        "e 0xa4c040\n",
        "\n",
        "l 0xa4c1c8\n",
        "\n",
        "l 0xa4c1c8\n",
        "\n",
        "o 0xa4c270     \n",
        "\n",
        "W 0xa4bd30\n",
        "\n",
        "o 0xa4c270\n",
        "\n",
        "r 0xa4c318\n",
        "\n",
        "l 0xa4c1c8\n",
        "\n",
        "d 0xa4c008             \n"
      ],
      "metadata": {
        "id": "-mBS7AwtKclS"
      }
    },
    {
      "cell_type": "markdown",
      "source": [
        "### Problem-solving\n",
        "\n",
        " Let the variable ```x``` be ```dog``` and the variable ```y``` be ```cat```. Write the values returned by the following operations: **Try solving without writing in Python.**  \n",
        "-  x + y  \n",
        "-  \"the \" + x + \" chases the \" + y  \n",
        "-  x * 4  "
      ],
      "metadata": {
        "id": "rTf_jwaTMyEu"
      }
    },
    {
      "cell_type": "markdown",
      "source": [
        "- dogcat\n",
        "- the dog chases the cat\n",
        "- dogdogdogdog"
      ],
      "metadata": {
        "id": "cZo5BEsJM7qC"
      }
    },
    {
      "cell_type": "markdown",
      "source": [
        "If ```x = 50```. Use an assignment statement to increment the value of ```x``` by 1.  "
      ],
      "metadata": {
        "id": "oFpYtt5KNCjK"
      }
    },
    {
      "cell_type": "code",
      "source": [
        "x= 50\n",
        "x+=1\n",
        "print(x)"
      ],
      "metadata": {
        "id": "Q4Z1wMB_NDNi",
        "outputId": "3cb0fd7d-9cc4-430b-d6b1-ad58feb64887",
        "colab": {
          "base_uri": "https://localhost:8080/"
        }
      },
      "execution_count": 60,
      "outputs": [
        {
          "output_type": "stream",
          "name": "stdout",
          "text": [
            "51\n"
          ]
        }
      ]
    },
    {
      "cell_type": "markdown",
      "source": [
        "### Troubleshooting\n",
        "\n",
        "Please troubleshoot the following issue **without using Python**, and explain your reasoning.\n",
        "\n",
        "a. ```hello = \"hello\"```  \n",
        "b. ```_var = 100```  \n",
        "c. ```!var_1 = 200```  \n",
        "d. ```print = \"print me\"```  \n",
        "e. ```False = 0```  "
      ],
      "metadata": {
        "id": "V0l5fqK-NJ2n"
      }
    },
    {
      "cell_type": "markdown",
      "source": [
        "a. hello = \"hello\" - Correct\n",
        "\n",
        "b. _var = 100 - Correct\n",
        "\n",
        "c. !var_1 = 200 - variable cant start with the special character\n",
        "\n",
        "d. print = \"print me\" - print is already a function on python and cannot be re used\n",
        "\n",
        "e. False = 0 - false is a assigned word in python and already has a meaning. It cannot be reassigned\n",
        "\n"
      ],
      "metadata": {
        "id": "Cz8CqobPNO8n"
      }
    },
    {
      "cell_type": "markdown",
      "source": [
        "## Challenges\n"
      ],
      "metadata": {
        "id": "xQzjxKdvvbyo"
      }
    },
    {
      "cell_type": "markdown",
      "source": [
        "\n",
        "I am not sure if im completeting these right. I had to do problem solving and research to figure out the answers for these questions. please let me know if im missing something. I dont feel like everything was explained in the video."
      ],
      "metadata": {
        "id": "qfJNpTB5EbY4"
      }
    }
  ]
}